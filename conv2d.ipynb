{
 "cells": [
  {
   "cell_type": "code",
   "execution_count": 1,
   "metadata": {},
   "outputs": [
    {
     "name": "stderr",
     "output_type": "stream",
     "text": [
      "Using TensorFlow backend.\n"
     ]
    }
   ],
   "source": [
    "import numpy as np\n",
    "from keras.models import Sequential\n",
    "from keras.layers import Dense\n",
    "from keras.layers import Flatten\n",
    "from keras.layers.convolutional import Conv2D\n",
    "from keras.layers.convolutional import MaxPooling2D\n",
    "from keras.utils import np_utils"
   ]
  },
  {
   "cell_type": "code",
   "execution_count": 2,
   "metadata": {},
   "outputs": [],
   "source": [
    "model = Sequential()"
   ]
  },
  {
   "cell_type": "code",
   "execution_count": 3,
   "metadata": {},
   "outputs": [
    {
     "name": "stdout",
     "output_type": "stream",
     "text": [
      "WARNING:tensorflow:From /Users/steve/.pyenv/versions/anaconda3-5.3.0/lib/python3.6/site-packages/tensorflow/python/framework/op_def_library.py:263: colocate_with (from tensorflow.python.framework.ops) is deprecated and will be removed in a future version.\n",
      "Instructions for updating:\n",
      "Colocations handled automatically by placer.\n"
     ]
    }
   ],
   "source": [
    "model.add(Conv2D(2,(3,3), padding = 'same', activation = 'relu', input_shape = (8,8,1)))\n",
    "model.add(MaxPooling2D(pool_size = (2, 2)))\n",
    "model.add(Conv2D(3,(3,3), padding = 'same', activation = 'relu'))\n",
    "model.add(MaxPooling2D(pool_size = (2, 2)))\n",
    "model.add(Flatten())\n",
    "model.add(Dense(8,activation='relu'))\n",
    "model.add(Dense(3,activation='softmax'))"
   ]
  },
  {
   "cell_type": "code",
   "execution_count": 4,
   "metadata": {},
   "outputs": [],
   "source": [
    "from IPython.display import SVG\n",
    "from keras.utils.vis_utils import model_to_dot\n",
    "\n",
    "%matplotlib inline"
   ]
  },
  {
   "cell_type": "code",
   "execution_count": 5,
   "metadata": {},
   "outputs": [
    {
     "data": {
      "image/svg+xml": [
       "<svg height=\"626pt\" viewBox=\"0.00 0.00 374.00 626.00\" width=\"374pt\" xmlns=\"http://www.w3.org/2000/svg\" xmlns:xlink=\"http://www.w3.org/1999/xlink\">\n",
       "<g class=\"graph\" id=\"graph0\" transform=\"scale(1 1) rotate(0) translate(4 622)\">\n",
       "<title>G</title>\n",
       "<polygon fill=\"#ffffff\" points=\"-4,4 -4,-622 370,-622 370,4 -4,4\" stroke=\"transparent\"/>\n",
       "<!-- 4634996808 -->\n",
       "<g class=\"node\" id=\"node1\">\n",
       "<title>4634996808</title>\n",
       "<polygon fill=\"none\" points=\"42.5,-498.5 42.5,-544.5 323.5,-544.5 323.5,-498.5 42.5,-498.5\" stroke=\"#000000\"/>\n",
       "<text fill=\"#000000\" font-family=\"Times,serif\" font-size=\"14.00\" text-anchor=\"middle\" x=\"106\" y=\"-517.8\">conv2d_1: Conv2D</text>\n",
       "<polyline fill=\"none\" points=\"169.5,-498.5 169.5,-544.5 \" stroke=\"#000000\"/>\n",
       "<text fill=\"#000000\" font-family=\"Times,serif\" font-size=\"14.00\" text-anchor=\"middle\" x=\"197.5\" y=\"-529.3\">input:</text>\n",
       "<polyline fill=\"none\" points=\"169.5,-521.5 225.5,-521.5 \" stroke=\"#000000\"/>\n",
       "<text fill=\"#000000\" font-family=\"Times,serif\" font-size=\"14.00\" text-anchor=\"middle\" x=\"197.5\" y=\"-506.3\">output:</text>\n",
       "<polyline fill=\"none\" points=\"225.5,-498.5 225.5,-544.5 \" stroke=\"#000000\"/>\n",
       "<text fill=\"#000000\" font-family=\"Times,serif\" font-size=\"14.00\" text-anchor=\"middle\" x=\"274.5\" y=\"-529.3\">(None, 8, 8, 1)</text>\n",
       "<polyline fill=\"none\" points=\"225.5,-521.5 323.5,-521.5 \" stroke=\"#000000\"/>\n",
       "<text fill=\"#000000\" font-family=\"Times,serif\" font-size=\"14.00\" text-anchor=\"middle\" x=\"274.5\" y=\"-506.3\">(None, 8, 8, 2)</text>\n",
       "</g>\n",
       "<!-- 48363284464 -->\n",
       "<g class=\"node\" id=\"node2\">\n",
       "<title>48363284464</title>\n",
       "<polygon fill=\"none\" points=\"0,-415.5 0,-461.5 366,-461.5 366,-415.5 0,-415.5\" stroke=\"#000000\"/>\n",
       "<text fill=\"#000000\" font-family=\"Times,serif\" font-size=\"14.00\" text-anchor=\"middle\" x=\"106\" y=\"-434.8\">max_pooling2d_1: MaxPooling2D</text>\n",
       "<polyline fill=\"none\" points=\"212,-415.5 212,-461.5 \" stroke=\"#000000\"/>\n",
       "<text fill=\"#000000\" font-family=\"Times,serif\" font-size=\"14.00\" text-anchor=\"middle\" x=\"240\" y=\"-446.3\">input:</text>\n",
       "<polyline fill=\"none\" points=\"212,-438.5 268,-438.5 \" stroke=\"#000000\"/>\n",
       "<text fill=\"#000000\" font-family=\"Times,serif\" font-size=\"14.00\" text-anchor=\"middle\" x=\"240\" y=\"-423.3\">output:</text>\n",
       "<polyline fill=\"none\" points=\"268,-415.5 268,-461.5 \" stroke=\"#000000\"/>\n",
       "<text fill=\"#000000\" font-family=\"Times,serif\" font-size=\"14.00\" text-anchor=\"middle\" x=\"317\" y=\"-446.3\">(None, 8, 8, 2)</text>\n",
       "<polyline fill=\"none\" points=\"268,-438.5 366,-438.5 \" stroke=\"#000000\"/>\n",
       "<text fill=\"#000000\" font-family=\"Times,serif\" font-size=\"14.00\" text-anchor=\"middle\" x=\"317\" y=\"-423.3\">(None, 4, 4, 2)</text>\n",
       "</g>\n",
       "<!-- 4634996808&#45;&gt;48363284464 -->\n",
       "<g class=\"edge\" id=\"edge2\">\n",
       "<title>4634996808-&gt;48363284464</title>\n",
       "<path d=\"M183,-498.3799C183,-490.1745 183,-480.7679 183,-471.8786\" fill=\"none\" stroke=\"#000000\"/>\n",
       "<polygon fill=\"#000000\" points=\"186.5001,-471.784 183,-461.784 179.5001,-471.784 186.5001,-471.784\" stroke=\"#000000\"/>\n",
       "</g>\n",
       "<!-- 48363283736 -->\n",
       "<g class=\"node\" id=\"node3\">\n",
       "<title>48363283736</title>\n",
       "<polygon fill=\"none\" points=\"42.5,-332.5 42.5,-378.5 323.5,-378.5 323.5,-332.5 42.5,-332.5\" stroke=\"#000000\"/>\n",
       "<text fill=\"#000000\" font-family=\"Times,serif\" font-size=\"14.00\" text-anchor=\"middle\" x=\"106\" y=\"-351.8\">conv2d_2: Conv2D</text>\n",
       "<polyline fill=\"none\" points=\"169.5,-332.5 169.5,-378.5 \" stroke=\"#000000\"/>\n",
       "<text fill=\"#000000\" font-family=\"Times,serif\" font-size=\"14.00\" text-anchor=\"middle\" x=\"197.5\" y=\"-363.3\">input:</text>\n",
       "<polyline fill=\"none\" points=\"169.5,-355.5 225.5,-355.5 \" stroke=\"#000000\"/>\n",
       "<text fill=\"#000000\" font-family=\"Times,serif\" font-size=\"14.00\" text-anchor=\"middle\" x=\"197.5\" y=\"-340.3\">output:</text>\n",
       "<polyline fill=\"none\" points=\"225.5,-332.5 225.5,-378.5 \" stroke=\"#000000\"/>\n",
       "<text fill=\"#000000\" font-family=\"Times,serif\" font-size=\"14.00\" text-anchor=\"middle\" x=\"274.5\" y=\"-363.3\">(None, 4, 4, 2)</text>\n",
       "<polyline fill=\"none\" points=\"225.5,-355.5 323.5,-355.5 \" stroke=\"#000000\"/>\n",
       "<text fill=\"#000000\" font-family=\"Times,serif\" font-size=\"14.00\" text-anchor=\"middle\" x=\"274.5\" y=\"-340.3\">(None, 4, 4, 3)</text>\n",
       "</g>\n",
       "<!-- 48363284464&#45;&gt;48363283736 -->\n",
       "<g class=\"edge\" id=\"edge3\">\n",
       "<title>48363284464-&gt;48363283736</title>\n",
       "<path d=\"M183,-415.3799C183,-407.1745 183,-397.7679 183,-388.8786\" fill=\"none\" stroke=\"#000000\"/>\n",
       "<polygon fill=\"#000000\" points=\"186.5001,-388.784 183,-378.784 179.5001,-388.784 186.5001,-388.784\" stroke=\"#000000\"/>\n",
       "</g>\n",
       "<!-- 48363550480 -->\n",
       "<g class=\"node\" id=\"node4\">\n",
       "<title>48363550480</title>\n",
       "<polygon fill=\"none\" points=\"0,-249.5 0,-295.5 366,-295.5 366,-249.5 0,-249.5\" stroke=\"#000000\"/>\n",
       "<text fill=\"#000000\" font-family=\"Times,serif\" font-size=\"14.00\" text-anchor=\"middle\" x=\"106\" y=\"-268.8\">max_pooling2d_2: MaxPooling2D</text>\n",
       "<polyline fill=\"none\" points=\"212,-249.5 212,-295.5 \" stroke=\"#000000\"/>\n",
       "<text fill=\"#000000\" font-family=\"Times,serif\" font-size=\"14.00\" text-anchor=\"middle\" x=\"240\" y=\"-280.3\">input:</text>\n",
       "<polyline fill=\"none\" points=\"212,-272.5 268,-272.5 \" stroke=\"#000000\"/>\n",
       "<text fill=\"#000000\" font-family=\"Times,serif\" font-size=\"14.00\" text-anchor=\"middle\" x=\"240\" y=\"-257.3\">output:</text>\n",
       "<polyline fill=\"none\" points=\"268,-249.5 268,-295.5 \" stroke=\"#000000\"/>\n",
       "<text fill=\"#000000\" font-family=\"Times,serif\" font-size=\"14.00\" text-anchor=\"middle\" x=\"317\" y=\"-280.3\">(None, 4, 4, 3)</text>\n",
       "<polyline fill=\"none\" points=\"268,-272.5 366,-272.5 \" stroke=\"#000000\"/>\n",
       "<text fill=\"#000000\" font-family=\"Times,serif\" font-size=\"14.00\" text-anchor=\"middle\" x=\"317\" y=\"-257.3\">(None, 2, 2, 3)</text>\n",
       "</g>\n",
       "<!-- 48363283736&#45;&gt;48363550480 -->\n",
       "<g class=\"edge\" id=\"edge4\">\n",
       "<title>48363283736-&gt;48363550480</title>\n",
       "<path d=\"M183,-332.3799C183,-324.1745 183,-314.7679 183,-305.8786\" fill=\"none\" stroke=\"#000000\"/>\n",
       "<polygon fill=\"#000000\" points=\"186.5001,-305.784 183,-295.784 179.5001,-305.784 186.5001,-305.784\" stroke=\"#000000\"/>\n",
       "</g>\n",
       "<!-- 48363412560 -->\n",
       "<g class=\"node\" id=\"node5\">\n",
       "<title>48363412560</title>\n",
       "<polygon fill=\"none\" points=\"50,-166.5 50,-212.5 316,-212.5 316,-166.5 50,-166.5\" stroke=\"#000000\"/>\n",
       "<text fill=\"#000000\" font-family=\"Times,serif\" font-size=\"14.00\" text-anchor=\"middle\" x=\"106\" y=\"-185.8\">flatten_1: Flatten</text>\n",
       "<polyline fill=\"none\" points=\"162,-166.5 162,-212.5 \" stroke=\"#000000\"/>\n",
       "<text fill=\"#000000\" font-family=\"Times,serif\" font-size=\"14.00\" text-anchor=\"middle\" x=\"190\" y=\"-197.3\">input:</text>\n",
       "<polyline fill=\"none\" points=\"162,-189.5 218,-189.5 \" stroke=\"#000000\"/>\n",
       "<text fill=\"#000000\" font-family=\"Times,serif\" font-size=\"14.00\" text-anchor=\"middle\" x=\"190\" y=\"-174.3\">output:</text>\n",
       "<polyline fill=\"none\" points=\"218,-166.5 218,-212.5 \" stroke=\"#000000\"/>\n",
       "<text fill=\"#000000\" font-family=\"Times,serif\" font-size=\"14.00\" text-anchor=\"middle\" x=\"267\" y=\"-197.3\">(None, 2, 2, 3)</text>\n",
       "<polyline fill=\"none\" points=\"218,-189.5 316,-189.5 \" stroke=\"#000000\"/>\n",
       "<text fill=\"#000000\" font-family=\"Times,serif\" font-size=\"14.00\" text-anchor=\"middle\" x=\"267\" y=\"-174.3\">(None, 12)</text>\n",
       "</g>\n",
       "<!-- 48363550480&#45;&gt;48363412560 -->\n",
       "<g class=\"edge\" id=\"edge5\">\n",
       "<title>48363550480-&gt;48363412560</title>\n",
       "<path d=\"M183,-249.3799C183,-241.1745 183,-231.7679 183,-222.8786\" fill=\"none\" stroke=\"#000000\"/>\n",
       "<polygon fill=\"#000000\" points=\"186.5001,-222.784 183,-212.784 179.5001,-222.784 186.5001,-222.784\" stroke=\"#000000\"/>\n",
       "</g>\n",
       "<!-- 48363550424 -->\n",
       "<g class=\"node\" id=\"node6\">\n",
       "<title>48363550424</title>\n",
       "<polygon fill=\"none\" points=\"64,-83.5 64,-129.5 302,-129.5 302,-83.5 64,-83.5\" stroke=\"#000000\"/>\n",
       "<text fill=\"#000000\" font-family=\"Times,serif\" font-size=\"14.00\" text-anchor=\"middle\" x=\"116.5\" y=\"-102.8\">dense_1: Dense</text>\n",
       "<polyline fill=\"none\" points=\"169,-83.5 169,-129.5 \" stroke=\"#000000\"/>\n",
       "<text fill=\"#000000\" font-family=\"Times,serif\" font-size=\"14.00\" text-anchor=\"middle\" x=\"197\" y=\"-114.3\">input:</text>\n",
       "<polyline fill=\"none\" points=\"169,-106.5 225,-106.5 \" stroke=\"#000000\"/>\n",
       "<text fill=\"#000000\" font-family=\"Times,serif\" font-size=\"14.00\" text-anchor=\"middle\" x=\"197\" y=\"-91.3\">output:</text>\n",
       "<polyline fill=\"none\" points=\"225,-83.5 225,-129.5 \" stroke=\"#000000\"/>\n",
       "<text fill=\"#000000\" font-family=\"Times,serif\" font-size=\"14.00\" text-anchor=\"middle\" x=\"263.5\" y=\"-114.3\">(None, 12)</text>\n",
       "<polyline fill=\"none\" points=\"225,-106.5 302,-106.5 \" stroke=\"#000000\"/>\n",
       "<text fill=\"#000000\" font-family=\"Times,serif\" font-size=\"14.00\" text-anchor=\"middle\" x=\"263.5\" y=\"-91.3\">(None, 8)</text>\n",
       "</g>\n",
       "<!-- 48363412560&#45;&gt;48363550424 -->\n",
       "<g class=\"edge\" id=\"edge6\">\n",
       "<title>48363412560-&gt;48363550424</title>\n",
       "<path d=\"M183,-166.3799C183,-158.1745 183,-148.7679 183,-139.8786\" fill=\"none\" stroke=\"#000000\"/>\n",
       "<polygon fill=\"#000000\" points=\"186.5001,-139.784 183,-129.784 179.5001,-139.784 186.5001,-139.784\" stroke=\"#000000\"/>\n",
       "</g>\n",
       "<!-- 48363666456 -->\n",
       "<g class=\"node\" id=\"node7\">\n",
       "<title>48363666456</title>\n",
       "<polygon fill=\"none\" points=\"67.5,-.5 67.5,-46.5 298.5,-46.5 298.5,-.5 67.5,-.5\" stroke=\"#000000\"/>\n",
       "<text fill=\"#000000\" font-family=\"Times,serif\" font-size=\"14.00\" text-anchor=\"middle\" x=\"120\" y=\"-19.8\">dense_2: Dense</text>\n",
       "<polyline fill=\"none\" points=\"172.5,-.5 172.5,-46.5 \" stroke=\"#000000\"/>\n",
       "<text fill=\"#000000\" font-family=\"Times,serif\" font-size=\"14.00\" text-anchor=\"middle\" x=\"200.5\" y=\"-31.3\">input:</text>\n",
       "<polyline fill=\"none\" points=\"172.5,-23.5 228.5,-23.5 \" stroke=\"#000000\"/>\n",
       "<text fill=\"#000000\" font-family=\"Times,serif\" font-size=\"14.00\" text-anchor=\"middle\" x=\"200.5\" y=\"-8.3\">output:</text>\n",
       "<polyline fill=\"none\" points=\"228.5,-.5 228.5,-46.5 \" stroke=\"#000000\"/>\n",
       "<text fill=\"#000000\" font-family=\"Times,serif\" font-size=\"14.00\" text-anchor=\"middle\" x=\"263.5\" y=\"-31.3\">(None, 8)</text>\n",
       "<polyline fill=\"none\" points=\"228.5,-23.5 298.5,-23.5 \" stroke=\"#000000\"/>\n",
       "<text fill=\"#000000\" font-family=\"Times,serif\" font-size=\"14.00\" text-anchor=\"middle\" x=\"263.5\" y=\"-8.3\">(None, 3)</text>\n",
       "</g>\n",
       "<!-- 48363550424&#45;&gt;48363666456 -->\n",
       "<g class=\"edge\" id=\"edge7\">\n",
       "<title>48363550424-&gt;48363666456</title>\n",
       "<path d=\"M183,-83.3799C183,-75.1745 183,-65.7679 183,-56.8786\" fill=\"none\" stroke=\"#000000\"/>\n",
       "<polygon fill=\"#000000\" points=\"186.5001,-56.784 183,-46.784 179.5001,-56.784 186.5001,-56.784\" stroke=\"#000000\"/>\n",
       "</g>\n",
       "<!-- 48363284128 -->\n",
       "<g class=\"node\" id=\"node8\">\n",
       "<title>48363284128</title>\n",
       "<polygon fill=\"none\" points=\"136,-581.5 136,-617.5 230,-617.5 230,-581.5 136,-581.5\" stroke=\"#000000\"/>\n",
       "<text fill=\"#000000\" font-family=\"Times,serif\" font-size=\"14.00\" text-anchor=\"middle\" x=\"183\" y=\"-595.8\">48363284128</text>\n",
       "</g>\n",
       "<!-- 48363284128&#45;&gt;4634996808 -->\n",
       "<g class=\"edge\" id=\"edge1\">\n",
       "<title>48363284128-&gt;4634996808</title>\n",
       "<path d=\"M183,-581.4092C183,-573.4308 183,-563.795 183,-554.606\" fill=\"none\" stroke=\"#000000\"/>\n",
       "<polygon fill=\"#000000\" points=\"186.5001,-554.5333 183,-544.5333 179.5001,-554.5334 186.5001,-554.5333\" stroke=\"#000000\"/>\n",
       "</g>\n",
       "</g>\n",
       "</svg>"
      ],
      "text/plain": [
       "<IPython.core.display.SVG object>"
      ]
     },
     "execution_count": 5,
     "metadata": {},
     "output_type": "execute_result"
    }
   ],
   "source": [
    "SVG(model_to_dot(model, show_shapes = True).create(prog = 'dot', format = 'svg'))"
   ]
  },
  {
   "cell_type": "code",
   "execution_count": null,
   "metadata": {},
   "outputs": [],
   "source": []
  }
 ],
 "metadata": {
  "kernelspec": {
   "display_name": "Python 3",
   "language": "python",
   "name": "python3"
  },
  "language_info": {
   "codemirror_mode": {
    "name": "ipython",
    "version": 3
   },
   "file_extension": ".py",
   "mimetype": "text/x-python",
   "name": "python",
   "nbconvert_exporter": "python",
   "pygments_lexer": "ipython3",
   "version": "3.6.8"
  }
 },
 "nbformat": 4,
 "nbformat_minor": 2
}
