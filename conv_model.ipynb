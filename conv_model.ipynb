{
 "cells": [
  {
   "cell_type": "code",
   "execution_count": 1,
   "metadata": {},
   "outputs": [
    {
     "name": "stderr",
     "output_type": "stream",
     "text": [
      "Using TensorFlow backend.\n"
     ]
    }
   ],
   "source": [
    "import numpy as np\n",
    "from keras.models import Sequential\n",
    "from keras.layers import Dense\n",
    "from keras.layers import Flatten\n",
    "from keras.layers.convolutional import Conv2D\n",
    "from keras.layers.convolutional import MaxPooling2D\n",
    "from keras.preprocessing.image import ImageDataGenerator"
   ]
  },
  {
   "cell_type": "code",
   "execution_count": 2,
   "metadata": {},
   "outputs": [],
   "source": [
    "np.random.seed(3)"
   ]
  },
  {
   "cell_type": "code",
   "execution_count": 3,
   "metadata": {},
   "outputs": [],
   "source": [
    "train_datagen = ImageDataGenerator(rescale=1./255)\n",
    "test_datagen = ImageDataGenerator(rescale=1./255)"
   ]
  },
  {
   "cell_type": "code",
   "execution_count": 44,
   "metadata": {},
   "outputs": [
    {
     "name": "stdout",
     "output_type": "stream",
     "text": [
      "Found 45 images belonging to 3 classes.\n",
      "Found 15 images belonging to 3 classes.\n"
     ]
    }
   ],
   "source": [
    "train_generator = train_datagen.flow_from_directory(\n",
    "                            'handwriting_shape/train',\n",
    "                            target_size = (24,24),\n",
    "                            batch_size = 3,\n",
    "                            class_mode='categorical')\n",
    "test_generator = test_datagen.flow_from_directory(\n",
    "                            'handwriting_shape/test',\n",
    "                            target_size = (24,24),\n",
    "                            batch_size = 3,\n",
    "                            class_mode = 'categorical')"
   ]
  },
  {
   "cell_type": "code",
   "execution_count": 45,
   "metadata": {},
   "outputs": [],
   "source": [
    "model = Sequential()"
   ]
  },
  {
   "cell_type": "code",
   "execution_count": 46,
   "metadata": {},
   "outputs": [],
   "source": [
    "model.add(Conv2D(32,kernel_size = (3,3), activation = 'relu', input_shape = (24,24,3)))\n",
    "model.add(Conv2D(64,(3,3), activation = 'relu'))\n",
    "model.add(MaxPooling2D(pool_size = (2,2)))\n",
    "model.add(Flatten())\n",
    "model.add(Dense(128, activation = 'relu'))\n",
    "model.add(Dense(3, activation = 'softmax'))"
   ]
  },
  {
   "cell_type": "code",
   "execution_count": 47,
   "metadata": {},
   "outputs": [],
   "source": [
    "from IPython.display import SVG\n",
    "from keras.utils.vis_utils import model_to_dot\n",
    "\n",
    "%matplotlib inline"
   ]
  },
  {
   "cell_type": "code",
   "execution_count": 48,
   "metadata": {},
   "outputs": [
    {
     "data": {
      "image/svg+xml": [
       "<svg height=\"543pt\" viewBox=\"0.00 0.00 395.00 543.00\" width=\"395pt\" xmlns=\"http://www.w3.org/2000/svg\" xmlns:xlink=\"http://www.w3.org/1999/xlink\">\n",
       "<g class=\"graph\" id=\"graph0\" transform=\"scale(1 1) rotate(0) translate(4 539)\">\n",
       "<title>G</title>\n",
       "<polygon fill=\"#ffffff\" points=\"-4,4 -4,-539 391,-539 391,4 -4,4\" stroke=\"transparent\"/>\n",
       "<!-- 48560390496 -->\n",
       "<g class=\"node\" id=\"node1\">\n",
       "<title>48560390496</title>\n",
       "<polygon fill=\"none\" points=\"42.5,-415.5 42.5,-461.5 344.5,-461.5 344.5,-415.5 42.5,-415.5\" stroke=\"#000000\"/>\n",
       "<text fill=\"#000000\" font-family=\"Times,serif\" font-size=\"14.00\" text-anchor=\"middle\" x=\"106\" y=\"-434.8\">conv2d_8: Conv2D</text>\n",
       "<polyline fill=\"none\" points=\"169.5,-415.5 169.5,-461.5 \" stroke=\"#000000\"/>\n",
       "<text fill=\"#000000\" font-family=\"Times,serif\" font-size=\"14.00\" text-anchor=\"middle\" x=\"197.5\" y=\"-446.3\">input:</text>\n",
       "<polyline fill=\"none\" points=\"169.5,-438.5 225.5,-438.5 \" stroke=\"#000000\"/>\n",
       "<text fill=\"#000000\" font-family=\"Times,serif\" font-size=\"14.00\" text-anchor=\"middle\" x=\"197.5\" y=\"-423.3\">output:</text>\n",
       "<polyline fill=\"none\" points=\"225.5,-415.5 225.5,-461.5 \" stroke=\"#000000\"/>\n",
       "<text fill=\"#000000\" font-family=\"Times,serif\" font-size=\"14.00\" text-anchor=\"middle\" x=\"285\" y=\"-446.3\">(None, 24, 24, 3)</text>\n",
       "<polyline fill=\"none\" points=\"225.5,-438.5 344.5,-438.5 \" stroke=\"#000000\"/>\n",
       "<text fill=\"#000000\" font-family=\"Times,serif\" font-size=\"14.00\" text-anchor=\"middle\" x=\"285\" y=\"-423.3\">(None, 22, 22, 32)</text>\n",
       "</g>\n",
       "<!-- 48560392904 -->\n",
       "<g class=\"node\" id=\"node2\">\n",
       "<title>48560392904</title>\n",
       "<polygon fill=\"none\" points=\"42.5,-332.5 42.5,-378.5 344.5,-378.5 344.5,-332.5 42.5,-332.5\" stroke=\"#000000\"/>\n",
       "<text fill=\"#000000\" font-family=\"Times,serif\" font-size=\"14.00\" text-anchor=\"middle\" x=\"106\" y=\"-351.8\">conv2d_9: Conv2D</text>\n",
       "<polyline fill=\"none\" points=\"169.5,-332.5 169.5,-378.5 \" stroke=\"#000000\"/>\n",
       "<text fill=\"#000000\" font-family=\"Times,serif\" font-size=\"14.00\" text-anchor=\"middle\" x=\"197.5\" y=\"-363.3\">input:</text>\n",
       "<polyline fill=\"none\" points=\"169.5,-355.5 225.5,-355.5 \" stroke=\"#000000\"/>\n",
       "<text fill=\"#000000\" font-family=\"Times,serif\" font-size=\"14.00\" text-anchor=\"middle\" x=\"197.5\" y=\"-340.3\">output:</text>\n",
       "<polyline fill=\"none\" points=\"225.5,-332.5 225.5,-378.5 \" stroke=\"#000000\"/>\n",
       "<text fill=\"#000000\" font-family=\"Times,serif\" font-size=\"14.00\" text-anchor=\"middle\" x=\"285\" y=\"-363.3\">(None, 22, 22, 32)</text>\n",
       "<polyline fill=\"none\" points=\"225.5,-355.5 344.5,-355.5 \" stroke=\"#000000\"/>\n",
       "<text fill=\"#000000\" font-family=\"Times,serif\" font-size=\"14.00\" text-anchor=\"middle\" x=\"285\" y=\"-340.3\">(None, 20, 20, 64)</text>\n",
       "</g>\n",
       "<!-- 48560390496&#45;&gt;48560392904 -->\n",
       "<g class=\"edge\" id=\"edge2\">\n",
       "<title>48560390496-&gt;48560392904</title>\n",
       "<path d=\"M193.5,-415.3799C193.5,-407.1745 193.5,-397.7679 193.5,-388.8786\" fill=\"none\" stroke=\"#000000\"/>\n",
       "<polygon fill=\"#000000\" points=\"197.0001,-388.784 193.5,-378.784 190.0001,-388.784 197.0001,-388.784\" stroke=\"#000000\"/>\n",
       "</g>\n",
       "<!-- 48560138840 -->\n",
       "<g class=\"node\" id=\"node3\">\n",
       "<title>48560138840</title>\n",
       "<polygon fill=\"none\" points=\"0,-249.5 0,-295.5 387,-295.5 387,-249.5 0,-249.5\" stroke=\"#000000\"/>\n",
       "<text fill=\"#000000\" font-family=\"Times,serif\" font-size=\"14.00\" text-anchor=\"middle\" x=\"106\" y=\"-268.8\">max_pooling2d_3: MaxPooling2D</text>\n",
       "<polyline fill=\"none\" points=\"212,-249.5 212,-295.5 \" stroke=\"#000000\"/>\n",
       "<text fill=\"#000000\" font-family=\"Times,serif\" font-size=\"14.00\" text-anchor=\"middle\" x=\"240\" y=\"-280.3\">input:</text>\n",
       "<polyline fill=\"none\" points=\"212,-272.5 268,-272.5 \" stroke=\"#000000\"/>\n",
       "<text fill=\"#000000\" font-family=\"Times,serif\" font-size=\"14.00\" text-anchor=\"middle\" x=\"240\" y=\"-257.3\">output:</text>\n",
       "<polyline fill=\"none\" points=\"268,-249.5 268,-295.5 \" stroke=\"#000000\"/>\n",
       "<text fill=\"#000000\" font-family=\"Times,serif\" font-size=\"14.00\" text-anchor=\"middle\" x=\"327.5\" y=\"-280.3\">(None, 20, 20, 64)</text>\n",
       "<polyline fill=\"none\" points=\"268,-272.5 387,-272.5 \" stroke=\"#000000\"/>\n",
       "<text fill=\"#000000\" font-family=\"Times,serif\" font-size=\"14.00\" text-anchor=\"middle\" x=\"327.5\" y=\"-257.3\">(None, 10, 10, 64)</text>\n",
       "</g>\n",
       "<!-- 48560392904&#45;&gt;48560138840 -->\n",
       "<g class=\"edge\" id=\"edge3\">\n",
       "<title>48560392904-&gt;48560138840</title>\n",
       "<path d=\"M193.5,-332.3799C193.5,-324.1745 193.5,-314.7679 193.5,-305.8786\" fill=\"none\" stroke=\"#000000\"/>\n",
       "<polygon fill=\"#000000\" points=\"197.0001,-305.784 193.5,-295.784 190.0001,-305.784 197.0001,-305.784\" stroke=\"#000000\"/>\n",
       "</g>\n",
       "<!-- 48560385608 -->\n",
       "<g class=\"node\" id=\"node4\">\n",
       "<title>48560385608</title>\n",
       "<polygon fill=\"none\" points=\"50,-166.5 50,-212.5 337,-212.5 337,-166.5 50,-166.5\" stroke=\"#000000\"/>\n",
       "<text fill=\"#000000\" font-family=\"Times,serif\" font-size=\"14.00\" text-anchor=\"middle\" x=\"106\" y=\"-185.8\">flatten_3: Flatten</text>\n",
       "<polyline fill=\"none\" points=\"162,-166.5 162,-212.5 \" stroke=\"#000000\"/>\n",
       "<text fill=\"#000000\" font-family=\"Times,serif\" font-size=\"14.00\" text-anchor=\"middle\" x=\"190\" y=\"-197.3\">input:</text>\n",
       "<polyline fill=\"none\" points=\"162,-189.5 218,-189.5 \" stroke=\"#000000\"/>\n",
       "<text fill=\"#000000\" font-family=\"Times,serif\" font-size=\"14.00\" text-anchor=\"middle\" x=\"190\" y=\"-174.3\">output:</text>\n",
       "<polyline fill=\"none\" points=\"218,-166.5 218,-212.5 \" stroke=\"#000000\"/>\n",
       "<text fill=\"#000000\" font-family=\"Times,serif\" font-size=\"14.00\" text-anchor=\"middle\" x=\"277.5\" y=\"-197.3\">(None, 10, 10, 64)</text>\n",
       "<polyline fill=\"none\" points=\"218,-189.5 337,-189.5 \" stroke=\"#000000\"/>\n",
       "<text fill=\"#000000\" font-family=\"Times,serif\" font-size=\"14.00\" text-anchor=\"middle\" x=\"277.5\" y=\"-174.3\">(None, 6400)</text>\n",
       "</g>\n",
       "<!-- 48560138840&#45;&gt;48560385608 -->\n",
       "<g class=\"edge\" id=\"edge4\">\n",
       "<title>48560138840-&gt;48560385608</title>\n",
       "<path d=\"M193.5,-249.3799C193.5,-241.1745 193.5,-231.7679 193.5,-222.8786\" fill=\"none\" stroke=\"#000000\"/>\n",
       "<polygon fill=\"#000000\" points=\"197.0001,-222.784 193.5,-212.784 190.0001,-222.784 197.0001,-222.784\" stroke=\"#000000\"/>\n",
       "</g>\n",
       "<!-- 48558934112 -->\n",
       "<g class=\"node\" id=\"node5\">\n",
       "<title>48558934112</title>\n",
       "<polygon fill=\"none\" points=\"67.5,-83.5 67.5,-129.5 319.5,-129.5 319.5,-83.5 67.5,-83.5\" stroke=\"#000000\"/>\n",
       "<text fill=\"#000000\" font-family=\"Times,serif\" font-size=\"14.00\" text-anchor=\"middle\" x=\"120\" y=\"-102.8\">dense_5: Dense</text>\n",
       "<polyline fill=\"none\" points=\"172.5,-83.5 172.5,-129.5 \" stroke=\"#000000\"/>\n",
       "<text fill=\"#000000\" font-family=\"Times,serif\" font-size=\"14.00\" text-anchor=\"middle\" x=\"200.5\" y=\"-114.3\">input:</text>\n",
       "<polyline fill=\"none\" points=\"172.5,-106.5 228.5,-106.5 \" stroke=\"#000000\"/>\n",
       "<text fill=\"#000000\" font-family=\"Times,serif\" font-size=\"14.00\" text-anchor=\"middle\" x=\"200.5\" y=\"-91.3\">output:</text>\n",
       "<polyline fill=\"none\" points=\"228.5,-83.5 228.5,-129.5 \" stroke=\"#000000\"/>\n",
       "<text fill=\"#000000\" font-family=\"Times,serif\" font-size=\"14.00\" text-anchor=\"middle\" x=\"274\" y=\"-114.3\">(None, 6400)</text>\n",
       "<polyline fill=\"none\" points=\"228.5,-106.5 319.5,-106.5 \" stroke=\"#000000\"/>\n",
       "<text fill=\"#000000\" font-family=\"Times,serif\" font-size=\"14.00\" text-anchor=\"middle\" x=\"274\" y=\"-91.3\">(None, 128)</text>\n",
       "</g>\n",
       "<!-- 48560385608&#45;&gt;48558934112 -->\n",
       "<g class=\"edge\" id=\"edge5\">\n",
       "<title>48560385608-&gt;48558934112</title>\n",
       "<path d=\"M193.5,-166.3799C193.5,-158.1745 193.5,-148.7679 193.5,-139.8786\" fill=\"none\" stroke=\"#000000\"/>\n",
       "<polygon fill=\"#000000\" points=\"197.0001,-139.784 193.5,-129.784 190.0001,-139.784 197.0001,-139.784\" stroke=\"#000000\"/>\n",
       "</g>\n",
       "<!-- 48337557488 -->\n",
       "<g class=\"node\" id=\"node6\">\n",
       "<title>48337557488</title>\n",
       "<polygon fill=\"none\" points=\"71,-.5 71,-46.5 316,-46.5 316,-.5 71,-.5\" stroke=\"#000000\"/>\n",
       "<text fill=\"#000000\" font-family=\"Times,serif\" font-size=\"14.00\" text-anchor=\"middle\" x=\"123.5\" y=\"-19.8\">dense_6: Dense</text>\n",
       "<polyline fill=\"none\" points=\"176,-.5 176,-46.5 \" stroke=\"#000000\"/>\n",
       "<text fill=\"#000000\" font-family=\"Times,serif\" font-size=\"14.00\" text-anchor=\"middle\" x=\"204\" y=\"-31.3\">input:</text>\n",
       "<polyline fill=\"none\" points=\"176,-23.5 232,-23.5 \" stroke=\"#000000\"/>\n",
       "<text fill=\"#000000\" font-family=\"Times,serif\" font-size=\"14.00\" text-anchor=\"middle\" x=\"204\" y=\"-8.3\">output:</text>\n",
       "<polyline fill=\"none\" points=\"232,-.5 232,-46.5 \" stroke=\"#000000\"/>\n",
       "<text fill=\"#000000\" font-family=\"Times,serif\" font-size=\"14.00\" text-anchor=\"middle\" x=\"274\" y=\"-31.3\">(None, 128)</text>\n",
       "<polyline fill=\"none\" points=\"232,-23.5 316,-23.5 \" stroke=\"#000000\"/>\n",
       "<text fill=\"#000000\" font-family=\"Times,serif\" font-size=\"14.00\" text-anchor=\"middle\" x=\"274\" y=\"-8.3\">(None, 3)</text>\n",
       "</g>\n",
       "<!-- 48558934112&#45;&gt;48337557488 -->\n",
       "<g class=\"edge\" id=\"edge6\">\n",
       "<title>48558934112-&gt;48337557488</title>\n",
       "<path d=\"M193.5,-83.3799C193.5,-75.1745 193.5,-65.7679 193.5,-56.8786\" fill=\"none\" stroke=\"#000000\"/>\n",
       "<polygon fill=\"#000000\" points=\"197.0001,-56.784 193.5,-46.784 190.0001,-56.784 197.0001,-56.784\" stroke=\"#000000\"/>\n",
       "</g>\n",
       "<!-- 48560385104 -->\n",
       "<g class=\"node\" id=\"node7\">\n",
       "<title>48560385104</title>\n",
       "<polygon fill=\"none\" points=\"146.5,-498.5 146.5,-534.5 240.5,-534.5 240.5,-498.5 146.5,-498.5\" stroke=\"#000000\"/>\n",
       "<text fill=\"#000000\" font-family=\"Times,serif\" font-size=\"14.00\" text-anchor=\"middle\" x=\"193.5\" y=\"-512.8\">48560385104</text>\n",
       "</g>\n",
       "<!-- 48560385104&#45;&gt;48560390496 -->\n",
       "<g class=\"edge\" id=\"edge1\">\n",
       "<title>48560385104-&gt;48560390496</title>\n",
       "<path d=\"M193.5,-498.4092C193.5,-490.4308 193.5,-480.795 193.5,-471.606\" fill=\"none\" stroke=\"#000000\"/>\n",
       "<polygon fill=\"#000000\" points=\"197.0001,-471.5333 193.5,-461.5333 190.0001,-471.5334 197.0001,-471.5333\" stroke=\"#000000\"/>\n",
       "</g>\n",
       "</g>\n",
       "</svg>"
      ],
      "text/plain": [
       "<IPython.core.display.SVG object>"
      ]
     },
     "execution_count": 48,
     "metadata": {},
     "output_type": "execute_result"
    }
   ],
   "source": [
    "SVG(model_to_dot(model, show_shapes = True).create(prog='dot', format='svg'))"
   ]
  },
  {
   "cell_type": "code",
   "execution_count": 49,
   "metadata": {},
   "outputs": [],
   "source": [
    "model.compile(loss='categorical_crossentropy', optimizer='adam', metrics=['accuracy'])"
   ]
  },
  {
   "cell_type": "code",
   "execution_count": 50,
   "metadata": {},
   "outputs": [
    {
     "name": "stdout",
     "output_type": "stream",
     "text": [
      "Epoch 1/50\n",
      "15/15 [==============================] - 2s 127ms/step - loss: 0.8710 - acc: 0.5111 - val_loss: 0.4052 - val_acc: 0.8667\n",
      "Epoch 2/50\n",
      "15/15 [==============================] - 0s 30ms/step - loss: 0.0966 - acc: 1.0000 - val_loss: 0.0452 - val_acc: 1.0000\n",
      "Epoch 3/50\n",
      "15/15 [==============================] - 0s 26ms/step - loss: 0.0060 - acc: 1.0000 - val_loss: 0.0511 - val_acc: 1.0000\n",
      "Epoch 4/50\n",
      "15/15 [==============================] - 0s 26ms/step - loss: 7.6160e-04 - acc: 1.0000 - val_loss: 0.0074 - val_acc: 1.0000\n",
      "Epoch 5/50\n",
      "15/15 [==============================] - 0s 26ms/step - loss: 3.5200e-04 - acc: 1.0000 - val_loss: 0.0135 - val_acc: 1.0000\n",
      "Epoch 6/50\n",
      "15/15 [==============================] - 0s 26ms/step - loss: 2.0870e-04 - acc: 1.0000 - val_loss: 0.0207 - val_acc: 1.0000\n",
      "Epoch 7/50\n",
      "15/15 [==============================] - 0s 25ms/step - loss: 1.6004e-04 - acc: 1.0000 - val_loss: 0.0132 - val_acc: 1.0000\n",
      "Epoch 8/50\n",
      "15/15 [==============================] - 0s 26ms/step - loss: 1.2506e-04 - acc: 1.0000 - val_loss: 0.0116 - val_acc: 1.0000\n",
      "Epoch 9/50\n",
      "15/15 [==============================] - 0s 27ms/step - loss: 1.1084e-04 - acc: 1.0000 - val_loss: 0.0122 - val_acc: 1.0000\n",
      "Epoch 10/50\n",
      "15/15 [==============================] - 0s 27ms/step - loss: 9.8432e-05 - acc: 1.0000 - val_loss: 0.0111 - val_acc: 1.0000\n",
      "Epoch 11/50\n",
      "15/15 [==============================] - 0s 27ms/step - loss: 8.5123e-05 - acc: 1.0000 - val_loss: 0.0106 - val_acc: 1.0000\n",
      "Epoch 12/50\n",
      "15/15 [==============================] - 0s 26ms/step - loss: 7.5921e-05 - acc: 1.0000 - val_loss: 0.0118 - val_acc: 1.0000\n",
      "Epoch 13/50\n",
      "15/15 [==============================] - 0s 25ms/step - loss: 6.7803e-05 - acc: 1.0000 - val_loss: 0.0100 - val_acc: 1.0000\n",
      "Epoch 14/50\n",
      "15/15 [==============================] - 0s 26ms/step - loss: 6.0497e-05 - acc: 1.0000 - val_loss: 0.0094 - val_acc: 1.0000\n",
      "Epoch 15/50\n",
      "15/15 [==============================] - 0s 26ms/step - loss: 5.3292e-05 - acc: 1.0000 - val_loss: 0.0095 - val_acc: 1.0000\n",
      "Epoch 16/50\n",
      "15/15 [==============================] - 0s 25ms/step - loss: 4.8219e-05 - acc: 1.0000 - val_loss: 0.0094 - val_acc: 1.0000\n",
      "Epoch 17/50\n",
      "15/15 [==============================] - 0s 26ms/step - loss: 4.3903e-05 - acc: 1.0000 - val_loss: 0.0090 - val_acc: 1.0000\n",
      "Epoch 18/50\n",
      "15/15 [==============================] - 0s 26ms/step - loss: 4.0100e-05 - acc: 1.0000 - val_loss: 0.0091 - val_acc: 1.0000\n",
      "Epoch 19/50\n",
      "15/15 [==============================] - 0s 26ms/step - loss: 3.6176e-05 - acc: 1.0000 - val_loss: 0.0082 - val_acc: 1.0000\n",
      "Epoch 20/50\n",
      "15/15 [==============================] - 0s 26ms/step - loss: 3.2992e-05 - acc: 1.0000 - val_loss: 0.0079 - val_acc: 1.0000\n",
      "Epoch 21/50\n",
      "15/15 [==============================] - 0s 26ms/step - loss: 3.0071e-05 - acc: 1.0000 - val_loss: 0.0076 - val_acc: 1.0000\n",
      "Epoch 22/50\n",
      "15/15 [==============================] - 0s 26ms/step - loss: 2.7605e-05 - acc: 1.0000 - val_loss: 0.0073 - val_acc: 1.0000\n",
      "Epoch 23/50\n",
      "15/15 [==============================] - 0s 25ms/step - loss: 2.5578e-05 - acc: 1.0000 - val_loss: 0.0071 - val_acc: 1.0000\n",
      "Epoch 24/50\n",
      "15/15 [==============================] - 0s 26ms/step - loss: 2.2845e-05 - acc: 1.0000 - val_loss: 0.0071 - val_acc: 1.0000\n",
      "Epoch 25/50\n",
      "15/15 [==============================] - 0s 26ms/step - loss: 2.0433e-05 - acc: 1.0000 - val_loss: 0.0069 - val_acc: 1.0000\n",
      "Epoch 26/50\n",
      "15/15 [==============================] - 0s 26ms/step - loss: 1.8572e-05 - acc: 1.0000 - val_loss: 0.0069 - val_acc: 1.0000\n",
      "Epoch 27/50\n",
      "15/15 [==============================] - 0s 26ms/step - loss: 1.7034e-05 - acc: 1.0000 - val_loss: 0.0065 - val_acc: 1.0000\n",
      "Epoch 28/50\n",
      "15/15 [==============================] - 0s 26ms/step - loss: 1.5527e-05 - acc: 1.0000 - val_loss: 0.0065 - val_acc: 1.0000\n",
      "Epoch 29/50\n",
      "15/15 [==============================] - 0s 26ms/step - loss: 1.4414e-05 - acc: 1.0000 - val_loss: 0.0062 - val_acc: 1.0000\n",
      "Epoch 30/50\n",
      "15/15 [==============================] - 0s 26ms/step - loss: 1.3374e-05 - acc: 1.0000 - val_loss: 0.0060 - val_acc: 1.0000\n",
      "Epoch 31/50\n",
      "15/15 [==============================] - 0s 26ms/step - loss: 1.2565e-05 - acc: 1.0000 - val_loss: 0.0065 - val_acc: 1.0000\n",
      "Epoch 32/50\n",
      "15/15 [==============================] - 0s 26ms/step - loss: 1.1489e-05 - acc: 1.0000 - val_loss: 0.0061 - val_acc: 1.0000\n",
      "Epoch 33/50\n",
      "15/15 [==============================] - 0s 26ms/step - loss: 1.0814e-05 - acc: 1.0000 - val_loss: 0.0058 - val_acc: 1.0000\n",
      "Epoch 34/50\n",
      "15/15 [==============================] - 0s 28ms/step - loss: 1.0161e-05 - acc: 1.0000 - val_loss: 0.0057 - val_acc: 1.0000\n",
      "Epoch 35/50\n",
      "15/15 [==============================] - 0s 27ms/step - loss: 9.5064e-06 - acc: 1.0000 - val_loss: 0.0055 - val_acc: 1.0000\n",
      "Epoch 36/50\n",
      "15/15 [==============================] - 0s 26ms/step - loss: 8.9157e-06 - acc: 1.0000 - val_loss: 0.0056 - val_acc: 1.0000\n",
      "Epoch 37/50\n",
      "15/15 [==============================] - 0s 28ms/step - loss: 8.4600e-06 - acc: 1.0000 - val_loss: 0.0056 - val_acc: 1.0000\n",
      "Epoch 38/50\n",
      "15/15 [==============================] - 0s 27ms/step - loss: 7.9580e-06 - acc: 1.0000 - val_loss: 0.0052 - val_acc: 1.0000\n",
      "Epoch 39/50\n",
      "15/15 [==============================] - 0s 26ms/step - loss: 7.4931e-06 - acc: 1.0000 - val_loss: 0.0051 - val_acc: 1.0000\n",
      "Epoch 40/50\n",
      "15/15 [==============================] - 0s 27ms/step - loss: 7.1050e-06 - acc: 1.0000 - val_loss: 0.0051 - val_acc: 1.0000\n",
      "Epoch 41/50\n",
      "15/15 [==============================] - 0s 26ms/step - loss: 6.7725e-06 - acc: 1.0000 - val_loss: 0.0049 - val_acc: 1.0000\n",
      "Epoch 42/50\n",
      "15/15 [==============================] - 0s 33ms/step - loss: 6.4215e-06 - acc: 1.0000 - val_loss: 0.0048 - val_acc: 1.0000\n",
      "Epoch 43/50\n",
      "15/15 [==============================] - 0s 32ms/step - loss: 6.1248e-06 - acc: 1.0000 - val_loss: 0.0049 - val_acc: 1.0000\n",
      "Epoch 44/50\n",
      "15/15 [==============================] - 0s 27ms/step - loss: 5.7645e-06 - acc: 1.0000 - val_loss: 0.0047 - val_acc: 1.0000\n",
      "Epoch 45/50\n",
      "15/15 [==============================] - 0s 28ms/step - loss: 5.5300e-06 - acc: 1.0000 - val_loss: 0.0046 - val_acc: 1.0000\n",
      "Epoch 46/50\n",
      "15/15 [==============================] - 0s 29ms/step - loss: 5.2519e-06 - acc: 1.0000 - val_loss: 0.0045 - val_acc: 1.0000\n",
      "Epoch 47/50\n",
      "15/15 [==============================] - 0s 30ms/step - loss: 5.0254e-06 - acc: 1.0000 - val_loss: 0.0043 - val_acc: 1.0000\n",
      "Epoch 48/50\n",
      "15/15 [==============================] - 0s 31ms/step - loss: 4.7962e-06 - acc: 1.0000 - val_loss: 0.0043 - val_acc: 1.0000\n",
      "Epoch 49/50\n",
      "15/15 [==============================] - 0s 30ms/step - loss: 4.5803e-06 - acc: 1.0000 - val_loss: 0.0042 - val_acc: 1.0000\n",
      "Epoch 50/50\n",
      "15/15 [==============================] - 0s 29ms/step - loss: 4.3737e-06 - acc: 1.0000 - val_loss: 0.0042 - val_acc: 1.0000\n"
     ]
    },
    {
     "data": {
      "text/plain": [
       "<keras.callbacks.History at 0xb4e7f5400>"
      ]
     },
     "execution_count": 50,
     "metadata": {},
     "output_type": "execute_result"
    }
   ],
   "source": [
    "model.fit_generator(\n",
    "        train_generator,\n",
    "        steps_per_epoch=15,\n",
    "        epochs=50,\n",
    "        validation_data=test_generator,\n",
    "        validation_steps=5)\n"
   ]
  },
  {
   "cell_type": "code",
   "execution_count": 51,
   "metadata": {},
   "outputs": [
    {
     "name": "stdout",
     "output_type": "stream",
     "text": [
      "Evaluate\n",
      "acc:100%\n"
     ]
    }
   ],
   "source": [
    "print(\"Evaluate\")\n",
    "scores = model.evaluate_generator(test_generator, steps=5)\n",
    "print(\"%s:%2.f%%\" %(model.metrics_names[1],scores[1]*100))"
   ]
  },
  {
   "cell_type": "code",
   "execution_count": 55,
   "metadata": {},
   "outputs": [
    {
     "name": "stdout",
     "output_type": "stream",
     "text": [
      "-- Predict --\n",
      "{'circle': 0, 'rectangle': 1, 'triangle': 2}\n",
      "[[0.000 0.000 1.000]\n",
      " [0.000 0.000 1.000]\n",
      " [0.000 1.000 0.000]\n",
      " [0.000 1.000 0.000]\n",
      " [1.000 0.000 0.000]\n",
      " [0.000 1.000 0.000]\n",
      " [1.000 0.000 0.000]\n",
      " [0.000 0.000 1.000]\n",
      " [0.000 0.000 1.000]\n",
      " [0.035 0.942 0.023]\n",
      " [0.000 0.002 0.998]\n",
      " [1.000 0.000 0.000]\n",
      " [0.000 1.000 0.000]\n",
      " [1.000 0.000 0.000]\n",
      " [1.000 0.000 0.000]]\n"
     ]
    }
   ],
   "source": [
    "print(\"-- Predict --\")\n",
    "output = model.predict_generator(test_generator, steps=5)\n",
    "np.set_printoptions(formatter={'float': lambda x: \"{0:0.3f}\".format(x)})\n",
    "print(test_generator.class_indices)\n",
    "print(output)"
   ]
  },
  {
   "cell_type": "code",
   "execution_count": 58,
   "metadata": {},
   "outputs": [
    {
     "data": {
      "text/plain": [
       "'channels_last'"
      ]
     },
     "execution_count": 58,
     "metadata": {},
     "output_type": "execute_result"
    }
   ],
   "source": [
    "test_generator.data_format"
   ]
  },
  {
   "cell_type": "code",
   "execution_count": null,
   "metadata": {},
   "outputs": [],
   "source": []
  }
 ],
 "metadata": {
  "kernelspec": {
   "display_name": "Python 3",
   "language": "python",
   "name": "python3"
  },
  "language_info": {
   "codemirror_mode": {
    "name": "ipython",
    "version": 3
   },
   "file_extension": ".py",
   "mimetype": "text/x-python",
   "name": "python",
   "nbconvert_exporter": "python",
   "pygments_lexer": "ipython3",
   "version": "3.6.8"
  }
 },
 "nbformat": 4,
 "nbformat_minor": 2
}
